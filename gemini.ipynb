{
  "nbformat": 4,
  "nbformat_minor": 0,
  "metadata": {
    "colab": {
      "provenance": [],
      "authorship_tag": "ABX9TyPxkEODFbMMl+5YVYa4TOiQ",
      "include_colab_link": true
    },
    "kernelspec": {
      "name": "python3",
      "display_name": "Python 3"
    },
    "language_info": {
      "name": "python"
    }
  },
  "cells": [
    {
      "cell_type": "markdown",
      "metadata": {
        "id": "view-in-github",
        "colab_type": "text"
      },
      "source": [
        "<a href=\"https://colab.research.google.com/github/roya90/Gemini_101/blob/main/gemini.ipynb\" target=\"_parent\"><img src=\"https://colab.research.google.com/assets/colab-badge.svg\" alt=\"Open In Colab\"/></a>"
      ]
    },
    {
      "cell_type": "code",
      "execution_count": 17,
      "metadata": {
        "id": "p4tY9sd7F3_e"
      },
      "outputs": [],
      "source": [
        "\n",
        "import google.generativeai as genai"
      ]
    },
    {
      "cell_type": "code",
      "source": [
        "%pip install google-auth"
      ],
      "metadata": {
        "colab": {
          "base_uri": "https://localhost:8080/"
        },
        "id": "pVQsGm4Vioyz",
        "outputId": "df9f67b3-2f57-4962-9806-170985df58be"
      },
      "execution_count": 18,
      "outputs": [
        {
          "output_type": "stream",
          "name": "stdout",
          "text": [
            "Requirement already satisfied: google-auth in /usr/local/lib/python3.10/dist-packages (2.27.0)\n",
            "Requirement already satisfied: cachetools<6.0,>=2.0.0 in /usr/local/lib/python3.10/dist-packages (from google-auth) (5.3.3)\n",
            "Requirement already satisfied: pyasn1-modules>=0.2.1 in /usr/local/lib/python3.10/dist-packages (from google-auth) (0.4.0)\n",
            "Requirement already satisfied: rsa<5,>=3.1.4 in /usr/local/lib/python3.10/dist-packages (from google-auth) (4.9)\n",
            "Requirement already satisfied: pyasn1<0.7.0,>=0.4.6 in /usr/local/lib/python3.10/dist-packages (from pyasn1-modules>=0.2.1->google-auth) (0.6.0)\n"
          ]
        }
      ]
    },
    {
      "cell_type": "code",
      "source": [
        "from google.colab import userdata\n"
      ],
      "metadata": {
        "id": "ZE2_YYt17whK"
      },
      "execution_count": 19,
      "outputs": []
    },
    {
      "cell_type": "code",
      "source": [
        "genai.configure(api_key=userdata.get('secretName'))"
      ],
      "metadata": {
        "id": "Oas3nd625Zrj"
      },
      "execution_count": 16,
      "outputs": []
    },
    {
      "cell_type": "code",
      "source": [
        "model = genai.GenerativeModel('models/gemini-pro')"
      ],
      "metadata": {
        "id": "NihMJkTFF7W6"
      },
      "execution_count": 5,
      "outputs": []
    },
    {
      "cell_type": "code",
      "source": [
        "dict_diet = {}\n",
        "\n",
        "dietary_restrictions = [\n",
        "    \"peanut allergy\",\n",
        "    \"lactose intolerance\",\n",
        "    \"gluten sensitivity\",\n",
        "    \"vegan\",\n",
        "    \"kosher\",\n",
        "    \"halal\"\n",
        "]\n",
        "for item in dietary_restrictions:\n",
        "  resp = model.generate_content(\" build a daily meal ideas for people with {} dietary_restrictions\".format(item))\n",
        "  dict_diet[item]=resp.text"
      ],
      "metadata": {
        "id": "MB8kyMtkiE99"
      },
      "execution_count": 8,
      "outputs": []
    },
    {
      "cell_type": "code",
      "source": [
        "dict_diet"
      ],
      "metadata": {
        "id": "PpiE8olxij2C",
        "colab": {
          "base_uri": "https://localhost:8080/"
        },
        "outputId": "b9faab82-72db-4d8b-b2d4-0174cd037ce3"
      },
      "execution_count": 10,
      "outputs": [
        {
          "output_type": "execute_result",
          "data": {
            "text/plain": [
              "{'peanut allergy': '**Breakfast**\\n\\n* Oatmeal with berries, almonds, and cinnamon\\n* Whole-wheat toast with avocado and scrambled eggs\\n* Smoothie made with fruits, vegetables, and almond or soy milk\\n* Yogurt with fruit and granola (made without peanuts)\\n* Scrambled eggs with vegetables\\n\\n**Lunch**\\n\\n* Salad with grilled chicken, mixed greens, vegetables, and a dairy-free dressing\\n* Sandwich on whole-wheat bread with hummus, vegetables, and sprouts\\n* Leftovers from dinner (such as pasta or stir-fry)\\n* Soup (check for hidden peanuts or traces of peanuts)\\n* Rice bowl with beans, vegetables, and avocado\\n\\n**Dinner**\\n\\n* Grilled salmon with roasted vegetables\\n* Chicken stir-fry with brown rice\\n* Pasta with marinara sauce and grilled vegetables\\n* Vegetarian chili made with beans, corn, and vegetables\\n* Tacos with corn tortillas, grilled fish, and vegetables\\n\\n**Snacks**\\n\\n* Apple slices with almond butter\\n* Banana with peanut-free trail mix\\n* Hummus with vegetable sticks\\n* Popcorn\\n* Crackers with cheese\\n\\n**Drinks**\\n\\n* Water\\n* Almond or soy milk\\n* Fruit juice (check for any added peanut ingredients)\\n* Herbal tea\\n\\n**Foods to Avoid**\\n\\n* Peanut butter, peanuts, and peanut oil\\n* Foods containing traces of peanuts (check food labels carefully)\\n* Products made in facilities that also process peanuts\\n\\n**Tips**\\n\\n* Read food labels carefully to check for hidden peanuts or traces of peanuts.\\n* Inform restaurants and other food establishments about your peanut allergy before ordering.\\n* Carry an epinephrine auto-injector in case of an accidental exposure.\\n* Be aware of possible cross-contamination, even in foods that do not normally contain peanuts.\\n* Consult with an allergist or registered dietitian for personalized advice on managing your peanut allergy.',\n",
              " 'lactose intolerance': \"**Breakfast**\\n\\n* Oatmeal with almond milk, berries, and nuts\\n* Gluten-free toast with avocado and egg\\n* Smoothie made with fruit, spinach, and plant-based milk\\n* Lactose-free yogurt with granola and fruit\\n* Eggs with vegetables and dairy-free cheese\\n\\n**Lunch**\\n\\n* Salad with grilled chicken or tofu, vegetables, and dairy-free dressing\\n* Sandwich on lactose-free bread with hummus, vegetables, and vegan mayo\\n* Leftover pasta with marinara sauce and vegetables\\n* Soup and salad\\n* Burrito bowl with rice, beans, vegetables, and dairy-free sour cream\\n\\n**Dinner**\\n\\n* Grilled salmon with roasted vegetables\\n* Shepherd's pie with lactose-free mashed potatoes\\n* Chicken stir-fry with brown rice\\n* Vegetable soup with dairy-free breadsticks\\n* Veggie burgers with sweet potato fries\\n\\n**Snacks**\\n\\n* Fruit (bananas, apples, berries)\\n* Vegetables (carrots, celery, cucumbers)\\n* Dairy-free cheese with crackers\\n* Lactose-free yogurt\\n* Trail mix with nuts, seeds, and dried fruit\\n\\n**Additional Tips:**\\n\\n* Read food labels carefully to check for hidden lactose.\\n* Use lactose-free milk, cheese, and yogurt in recipes.\\n* Consider taking lactase enzyme supplements to aid digestion.\\n* Choose calcium-rich foods, such as fortified plant-based milk, leafy green vegetables, and beans.\\n* Contact a registered dietitian or healthcare professional for personalized guidance and meal planning.\",\n",
              " 'gluten sensitivity': \"**Breakfast**\\n\\n* Gluten-free oatmeal with berries and nuts\\n* Scrambled eggs with gluten-free toast and avocado\\n* Gluten-free breakfast burritos with eggs, beans, and vegetables\\n* Gluten-free pancakes or waffles with fruit and syrup\\n* Gluten-free granola with yogurt and fruit\\n\\n**Lunch**\\n\\n* Salads with grilled chicken, quinoa, vegetables, and gluten-free dressing\\n* Sandwiches on gluten-free bread with lean protein, vegetables, and cheese\\n* Soups and stews with gluten-free ingredients\\n* Leftovers from dinner\\n* Gluten-free wraps with fillings such as tuna salad, hummus, or roasted vegetables\\n\\n**Dinner**\\n\\n* Grilled salmon with roasted vegetables and quinoa\\n* Chicken stir-fry with gluten-free soy sauce and brown rice\\n* Gluten-free pasta with marinara sauce and vegetables\\n* Tacos made with gluten-free tortillas, lean protein, and vegetables\\n* Shepherd's pie with a gluten-free mashed potato topping\\n\\n**Snacks**\\n\\n* Fruits (e.g., apples, bananas, berries)\\n* Vegetables (e.g., carrots, celery, cucumbers)\\n* Gluten-free nuts and seeds\\n* Gluten-free trail mix\\n* Gluten-free yogurt\\n* Hard-boiled eggs\\n\\n**Additional Tips**\\n\\n* Read food labels carefully for hidden gluten ingredients.\\n* Choose certified gluten-free products whenever possible.\\n* Cook meals from scratch to ensure ingredients are gluten-free.\\n* Avoid cross-contamination by using separate utensils and cookware for gluten-free and non-gluten-free foods.\\n* Be aware of potential hidden gluten sources, such as sauces, seasonings, and processed foods.\",\n",
              " 'vegan': \"**Breakfast**\\n\\n* **Oatmeal with berries and nuts:** 1 cup cooked oatmeal, 1/2 cup berries, 1/4 cup chopped nuts\\n* **Tofu scramble with vegetables:** 1/2 block tofu, crumbled, sautéed with 1/2 cup vegetables (e.g., bell peppers, onions, mushrooms)\\n* **Smoothie with fruits, vegetables, and plant-based milk:** 1 cup frozen fruit, 1/2 cup leafy greens, 1 cup plant-based milk (e.g., almond, soy)\\n* **Vegan yogurt with granola and fruit:** 1 cup vegan yogurt, 1/4 cup granola, 1/2 cup fruit\\n* **Whole-wheat toast with peanut butter and banana:** 2 slices whole-wheat toast, 2 tablespoons peanut butter, 1 banana\\n\\n**Lunch**\\n\\n* **Salad with grilled tofu and quinoa:** 4 cups mixed greens, 1/2 block grilled tofu, 1/2 cup cooked quinoa, 1/4 cup vegetables (e.g., cucumbers, tomatoes, avocados)\\n* **Lentil soup:** 1 cup lentil soup, served with 2 slices whole-wheat bread\\n* **Bean burritos with brown rice:** 2 whole-wheat tortillas, 1/2 cup cooked beans, 1/2 cup brown rice, vegetables (e.g., lettuce, tomatoes, onions)\\n* **Vegan sandwich on whole-wheat bread:** 2 slices whole-wheat bread, 1/4 cup hummus, 1/4 cup vegetables (e.g., cucumbers, carrots)\\n* **Pasta salad with chickpeas and vegetables:** 1 cup cooked pasta, 1/2 cup chickpeas, 1/2 cup vegetables (e.g., bell peppers, onions, olives)\\n\\n**Dinner**\\n\\n* **Roasted vegetable medley with quinoa:** 1 cup roasted vegetables (e.g., carrots, potatoes, broccoli), 1/2 cup cooked quinoa\\n* **Vegan curry with tofu and vegetables:** 1 cup vegan curry, 1/2 block tofu, 1 cup vegetables (e.g., carrots, peas, onions)\\n* **Shepherd's pie with lentils:** 1 cup lentil filling, topped with 1 cup mashed potatoes\\n* **Spaghetti with marinara sauce and vegan meatballs:** 1 cup spaghetti, 1/2 cup marinara sauce, 1/2 cup vegan meatballs\\n* **Stir-fry with vegetables and tofu:** 1 cup vegetables (e.g., bell peppers, broccoli, carrots), 1/2 block tofu, 1/2 cup brown rice\\n\\n**Snacks**\\n\\n* **Fruit:** 1 apple, 1 banana, 1 cup berries\\n* **Vegetables with hummus:** 1 cup carrot sticks, celery sticks, or cucumber slices with 1/4 cup hummus\\n* **Trail mix:** 1/4 cup nuts, 1/4 cup seeds, 1/4 cup dried fruit\\n* **Vegan yogurt:** 1 cup vegan yogurt, 1/4 cup fruit\\n* **Air-popped popcorn:** 3 cups popped popcorn\",\n",
              " 'kosher': \"**Breakfast**\\n\\n* **Monday:** Scrambled eggs with whole-wheat toast and fruit salad\\n* **Tuesday:** Oatmeal with berries and nuts\\n* **Wednesday:** Greek yogurt with granola and honey\\n* **Thursday:** Egg and cheese breakfast burritos with salsa\\n* **Friday:** Matzo brei (matzo pancake) with applesauce\\n\\n**Lunch**\\n\\n* **Monday:** Tuna salad sandwich on whole-wheat bread with lettuce and tomato\\n* **Tuesday:** Leftover chicken soup with matzo balls\\n* **Wednesday:** Grilled cheese sandwich with tomato soup\\n* **Thursday:** Hummus and vegetable wrap with sprouts\\n* **Friday:** Falafel salad with tahini dressing\\n\\n**Dinner**\\n\\n* **Monday:** Roasted chicken with vegetables (carrots, potatoes, onions)\\n* **Tuesday:** Spaghetti and meatballs\\n* **Wednesday:** Salmon with brown rice and grilled asparagus\\n* **Thursday:** Shepherd's pie with mashed potato topping\\n* **Friday:** Shabbat dinner: Challah bread, chicken soup, roasted brisket, kugel\\n\\n**Snacks**\\n\\n* Fruit (bananas, apples, oranges)\\n* Vegetables (carrots, celery, cucumbers)\\n* Nuts and seeds\\n* Dried fruit\\n* Hard-boiled eggs\\n\\n**Other Considerations**\\n\\n* **Meat and poultry:** All meat and poultry must be kosher.\\n* **Dairy:** Milk, cheese, and other dairy products must be kosher and cannot be mixed with meat.\\n* **Eggs:** Eggs must be kosher and cannot be cooked with milk or meat.\\n* **Fish:** Only certain types of fish (with fins and scales) are kosher.\\n* **Vegetables:** All vegetables are kosher.\\n* **Fruits:** All fruits are kosher.\\n* **Bread:** Bread and other baked goods must be kosher and cannot contain dairy or meat.\\n* **Wines and spirits:** Wines and spirits must be kosher.\",\n",
              " 'halal': \"**Breakfast**\\n\\n* Oatmeal with berries and nuts\\n* Scrambled eggs with spinach and cheese\\n* Whole-wheat toast with almond butter and banana\\n* Yogurt with granola and berries\\n* Smoothies made with fruit, yogurt, and milk\\n\\n**Lunch**\\n\\n* Salad with grilled chicken, vegetables, and tahini dressing\\n* Sandwich on whole-wheat bread with lean protein, vegetables, and hummus\\n* Leftover chicken soup with vegetables\\n* Rice bowl with chicken, vegetables, and brown rice\\n* Falafel sandwich with hummus and vegetables\\n\\n**Dinner**\\n\\n* Grilled salmon with roasted vegetables\\n* Chicken stir-fry with brown rice\\n* Lentil soup\\n* Spaghetti with marinara sauce and meatballs\\n* Shepherd's pie with lamb or beef\\n\\n**Snacks**\\n\\n* Fruit (apples, bananas, berries)\\n* Vegetables (carrots, celery, cucumbers)\\n* Trail mix\\n* Yogurt\\n* Hummus with pita bread\\n\\n**Dietary Guidelines**\\n\\n* Choose lean protein sources, such as chicken, fish, beans, and lentils.\\n* Include plenty of fruits and vegetables in your diet.\\n* Use whole grains instead of refined grains.\\n* Limit processed foods, sugary drinks, and unhealthy fats (saturated and trans fats).\\n* Stay hydrated by drinking plenty of water throughout the day.\\n\\n**Halal-Certified Foods**\\n\\n* Meat and poultry that is slaughtered and prepared according to Islamic law\\n* Seafood\\n* Eggs\\n* Dairy products (milk, cheese, yogurt)\\n* Most fruits and vegetables\\n* Spices and herbs\\n\\n**Tips for Halal Meal Planning**\\n\\n* Check food labels carefully to ensure that foods are halal-certified.\\n* Ask questions at restaurants and grocery stores about halal options.\\n* Cook meals at home as much as possible to control ingredients.\\n* Join Muslim community groups or connect with halal-friendly businesses for support and recommendations.\"}"
            ]
          },
          "metadata": {},
          "execution_count": 10
        }
      ]
    },
    {
      "cell_type": "code",
      "source": [
        "import pandas as pd"
      ],
      "metadata": {
        "id": "MvgFFYaN8c8V"
      },
      "execution_count": 12,
      "outputs": []
    },
    {
      "cell_type": "code",
      "source": [
        "df = pd.DataFrame.from_dict(dict_diet)"
      ],
      "metadata": {
        "id": "oS1aF1f7iN0y",
        "colab": {
          "base_uri": "https://localhost:8080/",
          "height": 293
        },
        "outputId": "a3d0e83a-2507-421a-c2b6-b9aa3a2dbfda"
      },
      "execution_count": 13,
      "outputs": [
        {
          "output_type": "error",
          "ename": "ValueError",
          "evalue": "If using all scalar values, you must pass an index",
          "traceback": [
            "\u001b[0;31m---------------------------------------------------------------------------\u001b[0m",
            "\u001b[0;31mValueError\u001b[0m                                Traceback (most recent call last)",
            "\u001b[0;32m<ipython-input-13-b5982d0db62d>\u001b[0m in \u001b[0;36m<cell line: 1>\u001b[0;34m()\u001b[0m\n\u001b[0;32m----> 1\u001b[0;31m \u001b[0mdf\u001b[0m \u001b[0;34m=\u001b[0m \u001b[0mpd\u001b[0m\u001b[0;34m.\u001b[0m\u001b[0mDataFrame\u001b[0m\u001b[0;34m.\u001b[0m\u001b[0mfrom_dict\u001b[0m\u001b[0;34m(\u001b[0m\u001b[0mdict_diet\u001b[0m\u001b[0;34m)\u001b[0m\u001b[0;34m\u001b[0m\u001b[0;34m\u001b[0m\u001b[0m\n\u001b[0m",
            "\u001b[0;32m/usr/local/lib/python3.10/dist-packages/pandas/core/frame.py\u001b[0m in \u001b[0;36mfrom_dict\u001b[0;34m(cls, data, orient, dtype, columns)\u001b[0m\n\u001b[1;32m   1758\u001b[0m \u001b[0;34m\u001b[0m\u001b[0m\n\u001b[1;32m   1759\u001b[0m         \u001b[0;32mif\u001b[0m \u001b[0morient\u001b[0m \u001b[0;34m!=\u001b[0m \u001b[0;34m\"tight\"\u001b[0m\u001b[0;34m:\u001b[0m\u001b[0;34m\u001b[0m\u001b[0;34m\u001b[0m\u001b[0m\n\u001b[0;32m-> 1760\u001b[0;31m             \u001b[0;32mreturn\u001b[0m \u001b[0mcls\u001b[0m\u001b[0;34m(\u001b[0m\u001b[0mdata\u001b[0m\u001b[0;34m,\u001b[0m \u001b[0mindex\u001b[0m\u001b[0;34m=\u001b[0m\u001b[0mindex\u001b[0m\u001b[0;34m,\u001b[0m \u001b[0mcolumns\u001b[0m\u001b[0;34m=\u001b[0m\u001b[0mcolumns\u001b[0m\u001b[0;34m,\u001b[0m \u001b[0mdtype\u001b[0m\u001b[0;34m=\u001b[0m\u001b[0mdtype\u001b[0m\u001b[0;34m)\u001b[0m\u001b[0;34m\u001b[0m\u001b[0;34m\u001b[0m\u001b[0m\n\u001b[0m\u001b[1;32m   1761\u001b[0m         \u001b[0;32melse\u001b[0m\u001b[0;34m:\u001b[0m\u001b[0;34m\u001b[0m\u001b[0;34m\u001b[0m\u001b[0m\n\u001b[1;32m   1762\u001b[0m             \u001b[0mrealdata\u001b[0m \u001b[0;34m=\u001b[0m \u001b[0mdata\u001b[0m\u001b[0;34m[\u001b[0m\u001b[0;34m\"data\"\u001b[0m\u001b[0;34m]\u001b[0m\u001b[0;34m\u001b[0m\u001b[0;34m\u001b[0m\u001b[0m\n",
            "\u001b[0;32m/usr/local/lib/python3.10/dist-packages/pandas/core/frame.py\u001b[0m in \u001b[0;36m__init__\u001b[0;34m(self, data, index, columns, dtype, copy)\u001b[0m\n\u001b[1;32m    707\u001b[0m         \u001b[0;32melif\u001b[0m \u001b[0misinstance\u001b[0m\u001b[0;34m(\u001b[0m\u001b[0mdata\u001b[0m\u001b[0;34m,\u001b[0m \u001b[0mdict\u001b[0m\u001b[0;34m)\u001b[0m\u001b[0;34m:\u001b[0m\u001b[0;34m\u001b[0m\u001b[0;34m\u001b[0m\u001b[0m\n\u001b[1;32m    708\u001b[0m             \u001b[0;31m# GH#38939 de facto copy defaults to False only in non-dict cases\u001b[0m\u001b[0;34m\u001b[0m\u001b[0;34m\u001b[0m\u001b[0m\n\u001b[0;32m--> 709\u001b[0;31m             \u001b[0mmgr\u001b[0m \u001b[0;34m=\u001b[0m \u001b[0mdict_to_mgr\u001b[0m\u001b[0;34m(\u001b[0m\u001b[0mdata\u001b[0m\u001b[0;34m,\u001b[0m \u001b[0mindex\u001b[0m\u001b[0;34m,\u001b[0m \u001b[0mcolumns\u001b[0m\u001b[0;34m,\u001b[0m \u001b[0mdtype\u001b[0m\u001b[0;34m=\u001b[0m\u001b[0mdtype\u001b[0m\u001b[0;34m,\u001b[0m \u001b[0mcopy\u001b[0m\u001b[0;34m=\u001b[0m\u001b[0mcopy\u001b[0m\u001b[0;34m,\u001b[0m \u001b[0mtyp\u001b[0m\u001b[0;34m=\u001b[0m\u001b[0mmanager\u001b[0m\u001b[0;34m)\u001b[0m\u001b[0;34m\u001b[0m\u001b[0;34m\u001b[0m\u001b[0m\n\u001b[0m\u001b[1;32m    710\u001b[0m         \u001b[0;32melif\u001b[0m \u001b[0misinstance\u001b[0m\u001b[0;34m(\u001b[0m\u001b[0mdata\u001b[0m\u001b[0;34m,\u001b[0m \u001b[0mma\u001b[0m\u001b[0;34m.\u001b[0m\u001b[0mMaskedArray\u001b[0m\u001b[0;34m)\u001b[0m\u001b[0;34m:\u001b[0m\u001b[0;34m\u001b[0m\u001b[0;34m\u001b[0m\u001b[0m\n\u001b[1;32m    711\u001b[0m             \u001b[0;32mfrom\u001b[0m \u001b[0mnumpy\u001b[0m\u001b[0;34m.\u001b[0m\u001b[0mma\u001b[0m \u001b[0;32mimport\u001b[0m \u001b[0mmrecords\u001b[0m\u001b[0;34m\u001b[0m\u001b[0;34m\u001b[0m\u001b[0m\n",
            "\u001b[0;32m/usr/local/lib/python3.10/dist-packages/pandas/core/internals/construction.py\u001b[0m in \u001b[0;36mdict_to_mgr\u001b[0;34m(data, index, columns, dtype, typ, copy)\u001b[0m\n\u001b[1;32m    479\u001b[0m             \u001b[0marrays\u001b[0m \u001b[0;34m=\u001b[0m \u001b[0;34m[\u001b[0m\u001b[0mx\u001b[0m\u001b[0;34m.\u001b[0m\u001b[0mcopy\u001b[0m\u001b[0;34m(\u001b[0m\u001b[0;34m)\u001b[0m \u001b[0;32mif\u001b[0m \u001b[0mhasattr\u001b[0m\u001b[0;34m(\u001b[0m\u001b[0mx\u001b[0m\u001b[0;34m,\u001b[0m \u001b[0;34m\"dtype\"\u001b[0m\u001b[0;34m)\u001b[0m \u001b[0;32melse\u001b[0m \u001b[0mx\u001b[0m \u001b[0;32mfor\u001b[0m \u001b[0mx\u001b[0m \u001b[0;32min\u001b[0m \u001b[0marrays\u001b[0m\u001b[0;34m]\u001b[0m\u001b[0;34m\u001b[0m\u001b[0;34m\u001b[0m\u001b[0m\n\u001b[1;32m    480\u001b[0m \u001b[0;34m\u001b[0m\u001b[0m\n\u001b[0;32m--> 481\u001b[0;31m     \u001b[0;32mreturn\u001b[0m \u001b[0marrays_to_mgr\u001b[0m\u001b[0;34m(\u001b[0m\u001b[0marrays\u001b[0m\u001b[0;34m,\u001b[0m \u001b[0mcolumns\u001b[0m\u001b[0;34m,\u001b[0m \u001b[0mindex\u001b[0m\u001b[0;34m,\u001b[0m \u001b[0mdtype\u001b[0m\u001b[0;34m=\u001b[0m\u001b[0mdtype\u001b[0m\u001b[0;34m,\u001b[0m \u001b[0mtyp\u001b[0m\u001b[0;34m=\u001b[0m\u001b[0mtyp\u001b[0m\u001b[0;34m,\u001b[0m \u001b[0mconsolidate\u001b[0m\u001b[0;34m=\u001b[0m\u001b[0mcopy\u001b[0m\u001b[0;34m)\u001b[0m\u001b[0;34m\u001b[0m\u001b[0;34m\u001b[0m\u001b[0m\n\u001b[0m\u001b[1;32m    482\u001b[0m \u001b[0;34m\u001b[0m\u001b[0m\n\u001b[1;32m    483\u001b[0m \u001b[0;34m\u001b[0m\u001b[0m\n",
            "\u001b[0;32m/usr/local/lib/python3.10/dist-packages/pandas/core/internals/construction.py\u001b[0m in \u001b[0;36marrays_to_mgr\u001b[0;34m(arrays, columns, index, dtype, verify_integrity, typ, consolidate)\u001b[0m\n\u001b[1;32m    113\u001b[0m         \u001b[0;31m# figure out the index, if necessary\u001b[0m\u001b[0;34m\u001b[0m\u001b[0;34m\u001b[0m\u001b[0m\n\u001b[1;32m    114\u001b[0m         \u001b[0;32mif\u001b[0m \u001b[0mindex\u001b[0m \u001b[0;32mis\u001b[0m \u001b[0;32mNone\u001b[0m\u001b[0;34m:\u001b[0m\u001b[0;34m\u001b[0m\u001b[0;34m\u001b[0m\u001b[0m\n\u001b[0;32m--> 115\u001b[0;31m             \u001b[0mindex\u001b[0m \u001b[0;34m=\u001b[0m \u001b[0m_extract_index\u001b[0m\u001b[0;34m(\u001b[0m\u001b[0marrays\u001b[0m\u001b[0;34m)\u001b[0m\u001b[0;34m\u001b[0m\u001b[0;34m\u001b[0m\u001b[0m\n\u001b[0m\u001b[1;32m    116\u001b[0m         \u001b[0;32melse\u001b[0m\u001b[0;34m:\u001b[0m\u001b[0;34m\u001b[0m\u001b[0;34m\u001b[0m\u001b[0m\n\u001b[1;32m    117\u001b[0m             \u001b[0mindex\u001b[0m \u001b[0;34m=\u001b[0m \u001b[0mensure_index\u001b[0m\u001b[0;34m(\u001b[0m\u001b[0mindex\u001b[0m\u001b[0;34m)\u001b[0m\u001b[0;34m\u001b[0m\u001b[0;34m\u001b[0m\u001b[0m\n",
            "\u001b[0;32m/usr/local/lib/python3.10/dist-packages/pandas/core/internals/construction.py\u001b[0m in \u001b[0;36m_extract_index\u001b[0;34m(data)\u001b[0m\n\u001b[1;32m    643\u001b[0m \u001b[0;34m\u001b[0m\u001b[0m\n\u001b[1;32m    644\u001b[0m     \u001b[0;32mif\u001b[0m \u001b[0;32mnot\u001b[0m \u001b[0mindexes\u001b[0m \u001b[0;32mand\u001b[0m \u001b[0;32mnot\u001b[0m \u001b[0mraw_lengths\u001b[0m\u001b[0;34m:\u001b[0m\u001b[0;34m\u001b[0m\u001b[0;34m\u001b[0m\u001b[0m\n\u001b[0;32m--> 645\u001b[0;31m         \u001b[0;32mraise\u001b[0m \u001b[0mValueError\u001b[0m\u001b[0;34m(\u001b[0m\u001b[0;34m\"If using all scalar values, you must pass an index\"\u001b[0m\u001b[0;34m)\u001b[0m\u001b[0;34m\u001b[0m\u001b[0;34m\u001b[0m\u001b[0m\n\u001b[0m\u001b[1;32m    646\u001b[0m \u001b[0;34m\u001b[0m\u001b[0m\n\u001b[1;32m    647\u001b[0m     \u001b[0;32mif\u001b[0m \u001b[0mhave_series\u001b[0m\u001b[0;34m:\u001b[0m\u001b[0;34m\u001b[0m\u001b[0;34m\u001b[0m\u001b[0m\n",
            "\u001b[0;31mValueError\u001b[0m: If using all scalar values, you must pass an index"
          ]
        }
      ]
    },
    {
      "cell_type": "code",
      "source": [],
      "metadata": {
        "id": "5Ad3tvuz8cAe"
      },
      "execution_count": null,
      "outputs": []
    }
  ]
}